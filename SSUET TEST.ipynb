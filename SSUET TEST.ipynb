{
 "cells": [
  {
   "cell_type": "markdown",
   "metadata": {},
   "source": [
    "## QUESTION # 1 : LINEAR REGRESSION"
   ]
  },
  {
   "cell_type": "code",
   "execution_count": 1,
   "metadata": {},
   "outputs": [],
   "source": [
    "import numpy as np\n",
    "import matplotlib.pyplot as plt\n",
    "%matplotlib inline"
   ]
  },
  {
   "cell_type": "code",
   "execution_count": 2,
   "metadata": {},
   "outputs": [
    {
     "data": {
      "text/plain": [
       "array([  7.82327586,   9.77586207,  11.72844828,  15.63362069,  19.5387931 ])"
      ]
     },
     "execution_count": 2,
     "metadata": {},
     "output_type": "execute_result"
    }
   ],
   "source": [
    "diameters = np.array([6,8,10,14,18])\n",
    "price = np.array([7,9,13,17.5,18])\n",
    "\n",
    "variance = diameters.var()\n",
    "covariance = np.cov(diameters, price, bias=True)[0][1]\n",
    "\n",
    "beta = covariance/variance\n",
    "alpha = price.mean() - (beta*diameters.mean())\n",
    "\n",
    "regression = alpha + beta*diameters\n",
    "regression"
   ]
  },
  {
   "cell_type": "code",
   "execution_count": 3,
   "metadata": {},
   "outputs": [
    {
     "data": {
      "text/plain": [
       "<matplotlib.text.Text at 0x82e76ac2b0>"
      ]
     },
     "execution_count": 3,
     "metadata": {},
     "output_type": "execute_result"
    },
    {
     "data": {
      "image/png": "[encoded data removed]",
      "text/plain": [
       "<matplotlib.figure.Figure at 0x82e6ead128>"
      ]
     },
     "metadata": {},
     "output_type": "display_data"
    }
   ],
   "source": [
    "fig , ax = plt.subplots()\n",
    "ax.scatter(diameters,price)\n",
    "ax.plot(diameters,regression, color='red')\n",
    "plt.title('Regression')"
   ]
  },
  {
   "cell_type": "code",
   "execution_count": 4,
   "metadata": {},
   "outputs": [
    {
     "data": {
      "text/plain": [
       "0.91000159642401024"
      ]
     },
     "execution_count": 4,
     "metadata": {},
     "output_type": "execute_result"
    }
   ],
   "source": [
    "# Calculating R^2\n",
    "\n",
    "SS_tot=0\n",
    "SS_res=0\n",
    "\n",
    "for i in range(0,5):\n",
    "    SS_tot += (price[i]-price.mean())**2\n",
    "    SS_res += (price[i]-regression[i])**2\n",
    "    \n",
    "R_sq = 1 - (SS_res/SS_tot)\n",
    "R_sq"
   ]
  },
  {
   "cell_type": "code",
   "execution_count": 5,
   "metadata": {},
   "outputs": [],
   "source": [
    "# Lets validate our answer using skleanr's Linear Regression implementation"
   ]
  },
  {
   "cell_type": "code",
   "execution_count": 6,
   "metadata": {},
   "outputs": [
    {
     "data": {
      "text/plain": [
       "0.91000159642401024"
      ]
     },
     "execution_count": 6,
     "metadata": {},
     "output_type": "execute_result"
    }
   ],
   "source": [
    "from sklearn.linear_model import LinearRegression\n",
    "LR = LinearRegression()\n",
    "LR.fit(diameters.reshape(-1,1),price)\n",
    "LR.score(diameters.reshape(-1,1),price)"
   ]
  },
  {
   "cell_type": "code",
   "execution_count": 7,
   "metadata": {
    "collapsed": true
   },
   "outputs": [],
   "source": [
    "# We are getting exactly the same value of R^2 score"
   ]
  },
  {
   "cell_type": "code",
   "execution_count": null,
   "metadata": {
    "collapsed": true
   },
   "outputs": [],
   "source": []
  },
  {
   "cell_type": "markdown",
   "metadata": {},
   "source": [
    "## QUESTION # 2 : CLUSTERING"
   ]
  },
  {
   "cell_type": "code",
   "execution_count": 8,
   "metadata": {},
   "outputs": [],
   "source": [
    "C1 = np.random.uniform(0.5,1.5,20)\n",
    "C1 = np.resize(C1,(2,10))\n",
    "C2 = np.random.uniform(3.5,4.5,20)\n",
    "C2 = np.resize(C2,(2,10))\n",
    "C3 = np.vstack((C1,C2))\n",
    "c1_mean = C1.mean()\n",
    "c2_mean = C2.mean()\n",
    "c3_mean = C3.mean()"
   ]
  },
  {
   "cell_type": "code",
   "execution_count": 9,
   "metadata": {},
   "outputs": [
    {
     "data": {
      "text/plain": [
       "<matplotlib.legend.Legend at 0x82e861dac8>"
      ]
     },
     "execution_count": 9,
     "metadata": {},
     "output_type": "execute_result"
    },
    {
     "data": {
      "image/png": "[encoded data removed]",
      "text/plain": [
       "<matplotlib.figure.Figure at 0x82e85b08d0>"
      ]
     },
     "metadata": {},
     "output_type": "display_data"
    }
   ],
   "source": [
    "x = np.random.uniform(0.0,5.0,40)\n",
    "x = np.resize(x,(4,10))\n",
    "plt.scatter(x,C3,color='black')\n",
    "plt.plot([0,1,2,3,4,5],[c1_mean,c1_mean,c1_mean,c1_mean,c1_mean,c1_mean], color='red',label='C1 Mean')\n",
    "plt.plot([0,1,2,3,4,5],[c2_mean,c2_mean,c2_mean,c2_mean,c2_mean,c2_mean], color='green',label='C2 Mean')\n",
    "plt.plot([0,1,2,3,4,5],[c3_mean,c3_mean,c3_mean,c3_mean,c3_mean,c3_mean], color='blue',label='C3 Mean')\n",
    "plt.title('Clustering')\n",
    "plt.legend()"
   ]
  },
  {
   "cell_type": "code",
   "execution_count": null,
   "metadata": {
    "collapsed": true
   },
   "outputs": [],
   "source": []
  },
  {
   "cell_type": "code",
   "execution_count": null,
   "metadata": {
    "collapsed": true
   },
   "outputs": [],
   "source": []
  },
  {
   "cell_type": "markdown",
   "metadata": {},
   "source": [
    "## TASK # 1 : XML DOM PARSER"
   ]
  },
  {
   "cell_type": "code",
   "execution_count": 10,
   "metadata": {
    "collapsed": true
   },
   "outputs": [],
   "source": [
    "import xml.etree.ElementTree as ET\n",
    "xmlTree = ET.parse('a.xml')"
   ]
  },
  {
   "cell_type": "markdown",
   "metadata": {},
   "source": [
    "### There is no error in parsing therefore the xml document is well formed"
   ]
  },
  {
   "cell_type": "code",
   "execution_count": 11,
   "metadata": {},
   "outputs": [
    {
     "name": "stdout",
     "output_type": "stream",
     "text": [
      "DOM MODEL :\n",
      "**********\n",
      "collection\n",
      "movie\n",
      "type\n",
      "format\n",
      "year\n",
      "rating\n",
      "stars\n",
      "description\n",
      "movie\n",
      "type\n",
      "format\n",
      "year\n",
      "rating\n",
      "stars\n",
      "description\n",
      "movie\n",
      "type\n",
      "format\n",
      "episodes\n",
      "rating\n",
      "stars\n",
      "description\n",
      "movie\n",
      "type\n",
      "format\n",
      "rating\n",
      "stars\n",
      "description\n"
     ]
    }
   ],
   "source": [
    "elemList = []\n",
    "\n",
    "print(\"DOM MODEL :\")\n",
    "print(\"*\"*10)\n",
    "\n",
    "for elem in xmlTree.iter():\n",
    "#     elemList.append(elem.tag) \n",
    "    print(elem.tag)"
   ]
  },
  {
   "cell_type": "code",
   "execution_count": null,
   "metadata": {
    "collapsed": true
   },
   "outputs": [],
   "source": []
  },
  {
   "cell_type": "code",
   "execution_count": null,
   "metadata": {
    "collapsed": true
   },
   "outputs": [],
   "source": []
  },
  {
   "cell_type": "code",
   "execution_count": null,
   "metadata": {
    "collapsed": true
   },
   "outputs": [],
   "source": []
  }
 ],
 "metadata": {
  "kernelspec": {
   "display_name": "Python 3",
   "language": "python",
   "name": "python3"
  },
  "language_info": {
   "codemirror_mode": {
    "name": "ipython",
    "version": 3
   },
   "file_extension": ".py",
   "mimetype": "text/x-python",
   "name": "python",
   "nbconvert_exporter": "python",
   "pygments_lexer": "ipython3",
   "version": "3.6.1"
  }
 },
 "nbformat": 4,
 "nbformat_minor": 2
}
