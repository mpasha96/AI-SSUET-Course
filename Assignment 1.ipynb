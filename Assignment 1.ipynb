{
 "cells": [
  {
   "cell_type": "code",
   "execution_count": 52,
   "metadata": {},
   "outputs": [
    {
     "name": "stdout",
     "output_type": "stream",
     "text": [
      "circumference :  6.28319\n"
     ]
    }
   ],
   "source": [
    "import tensorflow as tf\n",
    "import math\n",
    "\n",
    "radius = tf.Variable(5.0, dtype=tf.float32)\n",
    "two = tf.constant(2.0)\n",
    "pi = tf.constant(math.pi)\n",
    "\n",
    "circum_graph = tf.multiply(radius,tf.multiply(two,pi))\n",
    "\n",
    "# using sess.interactiveSession()\n",
    "sess =tf.InteractiveSession()\n",
    "radius.initializer.run()\n",
    "tf.assign(radius,1.0).eval()\n",
    "print(\"circumference : \",circum_graph.eval())\n",
    "sess.close()\n",
    "\n",
    "# using session.run(circum_graph)\n",
    "# sess = tf.Session()\n",
    "# init = tf.global_variables_initializer()\n",
    "# sess.run(init)\n",
    "# print(\"circumference : \",sess.run(circum_graph))"
   ]
  },
  {
   "cell_type": "code",
   "execution_count": null,
   "metadata": {},
   "outputs": [],
   "source": []
  },
  {
   "cell_type": "code",
   "execution_count": null,
   "metadata": {},
   "outputs": [],
   "source": []
  },
  {
   "cell_type": "code",
   "execution_count": null,
   "metadata": {},
   "outputs": [],
   "source": []
  }
 ],
 "metadata": {
  "kernelspec": {
   "display_name": "Python [conda env:tensorflow]",
   "language": "python",
   "name": "conda-env-tensorflow-py"
  },
  "language_info": {
   "codemirror_mode": {
    "name": "ipython",
    "version": 3
   },
   "file_extension": ".py",
   "mimetype": "text/x-python",
   "name": "python",
   "nbconvert_exporter": "python",
   "pygments_lexer": "ipython3",
   "version": "3.5.4"
  }
 },
 "nbformat": 4,
 "nbformat_minor": 2
}
